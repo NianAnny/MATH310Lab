{
 "cells": [
  {
   "cell_type": "code",
   "execution_count": 1,
   "metadata": {},
   "outputs": [],
   "source": [
    "import numpy as np\n",
    "\n",
    "def multi_newton(func, J, x0, tol, max_iteration):\n",
    "   x_k = np.array(x0, dtype=float)\n",
    "   \n",
    "   for i in range(max_iteration):\n",
    "       F_k = np.array([f(*x_k) for f in func])\n",
    "       J_k = J(*x_k)\n",
    "       \n",
    "       #solve the linear system J_k * delta = -F_k\n",
    "       delta_x, *_ = np.linalg.lstsq(J_k, -F_k, rcond = None)\n",
    "       \n",
    "       x_k = x_k + delta_x\n",
    "       \n",
    "       #check for convergence\n",
    "       if np.linalg.norm(delta_x) < tol:\n",
    "           return x_k, i"
   ]
  }
 ],
 "metadata": {
  "kernelspec": {
   "display_name": "Python 3",
   "language": "python",
   "name": "python3"
  },
  "language_info": {
   "codemirror_mode": {
    "name": "ipython",
    "version": 3
   },
   "file_extension": ".py",
   "mimetype": "text/x-python",
   "name": "python",
   "nbconvert_exporter": "python",
   "pygments_lexer": "ipython3",
   "version": "3.12.2"
  }
 },
 "nbformat": 4,
 "nbformat_minor": 2
}
