{
 "cells": [
  {
   "cell_type": "code",
   "execution_count": null,
   "metadata": {},
   "outputs": [],
   "source": [
    "US_cumulative = []\n",
    "value_US = 0\n",
    "for i in US_CO2:\n",
    "     value_US += i\n",
    "     US_cumulative.append(value_US)\n",
    "     \n",
    "China_cumulative = []\n",
    "value_China = 0\n",
    "for i in China_CO2:\n",
    "     value_China += i\n",
    "     China_cumulative.append(value_China)"
   ]
  },
  {
   "cell_type": "code",
   "execution_count": null,
   "metadata": {},
   "outputs": [],
   "source": []
  }
 ],
 "metadata": {
  "language_info": {
   "name": "python"
  }
 },
 "nbformat": 4,
 "nbformat_minor": 2
}
