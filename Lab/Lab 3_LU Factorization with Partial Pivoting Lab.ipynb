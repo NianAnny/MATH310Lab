{
 "cells": [
  {
   "cell_type": "code",
   "execution_count": 2,
   "metadata": {},
   "outputs": [],
   "source": [
    "import numpy as np\n",
    "import scipy as sp"
   ]
  },
  {
   "cell_type": "markdown",
   "metadata": {},
   "source": [
    "<h1>1.</h1>"
   ]
  },
  {
   "cell_type": "markdown",
   "metadata": {},
   "source": [
    "$A = \\begin{bmatrix}\n",
    "0 & 2 \\\\\n",
    "1 & 3 \n",
    "\\end{bmatrix}$\n",
    "\n",
    "The first leading  element $a_{11} = 0$, which is zero, posing a problem for the standard LU decomposition without pivoting since the pivot element is zero.\n",
    "\n",
    "However, we can still obtain the LU decomposition with row permutations (PLU decomposition), where $P$ is a permutation matrix.\n",
    "\n",
    "1. Swap the rows of $A$ to have a non-zero pivot element:\n",
    "$P = \\begin{bmatrix}\n",
    "0 & 1 \\\\\n",
    "1 & 0 \n",
    "\\end{bmatrix},\n",
    "\\quad\n",
    "PA = \\begin{bmatrix}\n",
    "1 & 3 \\\\\n",
    "0 & 2 \n",
    "\\end{bmatrix}$\n",
    "\n",
    "2. Perform the decomposition on $PA$ to obtain $L$ and $U$:\n",
    "$L = \\begin{bmatrix}\n",
    "1 & 0 \\\\\n",
    "0 & 1 \n",
    "\\end{bmatrix},\n",
    "\\quad\n",
    "U = \\begin{bmatrix}\n",
    "1 & 3 \\\\\n",
    "0 & 2 \n",
    "\\end{bmatrix}$\n",
    "\n",
    "Since no further row operations are needed after the initial swap, the $L$ matrix remains the identity matrix, and the $U$ matrix is simply the $PA$ matrix.\n",
    "\n",
    "Thus, the matrix $A$ can be decomposed into $LU$ with the help of a permutation matrix $P$.\n"
   ]
  },
  {
   "cell_type": "code",
   "execution_count": 3,
   "metadata": {},
   "outputs": [
    {
     "name": "stdout",
     "output_type": "stream",
     "text": [
      "Permutation (P):\n",
      "[[0. 1.]\n",
      " [1. 0.]]\n",
      "\n",
      "Lower Triangular (L):\n",
      "[[1. 0.]\n",
      " [0. 1.]]\n",
      "\n",
      "Upper Triangular (U):\n",
      "[[1. 3.]\n",
      " [0. 2.]]\n"
     ]
    }
   ],
   "source": [
    "A = np.array([[0,2],[1,3]])\n",
    "\n",
    "P, L, U = sp.linalg.lu(A)\n",
    "\n",
    "print(f\"Permutation (P):\\n{P}\\n\\nLower Triangular (L):\\n{L}\\n\\nUpper Triangular (U):\\n{U}\")"
   ]
  },
  {
   "cell_type": "markdown",
   "metadata": {},
   "source": [
    "<h1>2.</h1>"
   ]
  },
  {
   "cell_type": "markdown",
   "metadata": {},
   "source": [
    "$A = \\begin{bmatrix}\n",
    "10^{-22} & 2 \\\\\n",
    "1 & 3 \n",
    "\\end{bmatrix}\n",
    "=LU$\n",
    "\n",
    "Firstly, we can proceed wit hGaussian elimination to for the upper triangular matrix $U$. The entry is $10^{-22}$, which is so small and we can treat it as zero in floating-point arithmetic.\n",
    "\n",
    "\n",
    "Thus, through swapping rows and catch $10^{-22}$ as the multiplier which respond us ($R_2 - 10^{-22} \\times R_1 \\rightarrow R_2$):\n",
    "\n",
    "$U = \\begin{bmatrix}\n",
    "1 & 3\\\\\n",
    "10^{-22} - 1\\times 10^{-22} & 2-3\\times 10^{-22}\n",
    "\\end{bmatrix}$\n",
    "$\\approx\n",
    "\\begin{bmatrix}\n",
    "1 & 3\\\\\n",
    "0 & 2\n",
    "\\end{bmatrix}$ since $10^{-22}$ is negligible to be treated as 0.\n",
    "\n",
    "The corresponding lower triangular matrix $L$, \n",
    "$L = \\begin{bmatrix}\n",
    "1 & 0\\\\\n",
    "10^{-22} & 1\n",
    "\\end{bmatrix}$\n"
   ]
  },
  {
   "cell_type": "code",
   "execution_count": 4,
   "metadata": {},
   "outputs": [
    {
     "name": "stdout",
     "output_type": "stream",
     "text": [
      "Lower Triangular (L):\n",
      "[[1.e+00 0.e+00]\n",
      " [1.e+22 1.e+00]]\n",
      "\n",
      "Upper Triangular (U):\n",
      "[[ 1.e-22  2.e+00]\n",
      " [ 0.e+00 -2.e+22]]\n"
     ]
    }
   ],
   "source": [
    "#The LU Factorization\n",
    "def myLU(A):\n",
    "    n = A.shape[0] # get the dimension of the matrix A\n",
    "    L = np.identity(n) # Build the identity part L\n",
    "    U = A.astype(float) # start the U matrix as a copy of A, float type\n",
    "    for j in range(0,n-1):\n",
    "        for i in range(j+1,n):\n",
    "            mult = U[i,j] / U[j,j]\n",
    "            U[i, j+1:n] = U[i, j+1:n] - mult * U[j,j+1:n]\n",
    "            L[i,j] = mult\n",
    "            U[i,j] = 0 # Setting the lower part to zero\n",
    "    return L,U\n",
    "\n",
    "A = np.array([[1e-22, 2],[1,3]])\n",
    "L, U = myLU(A)\n",
    "print(f\"Lower Triangular (L):\\n{L}\\n\\nUpper Triangular (U):\\n{U}\")"
   ]
  },
  {
   "cell_type": "markdown",
   "metadata": {},
   "source": [
    "There exists a problem that the small leading entry dramatically affect the outcome:\n",
    "\n",
    "$L = \\begin{bmatrix}\n",
    "1 & 0\\\\\n",
    "10^{22} & 1\n",
    "\\end{bmatrix}\n",
    "\\quad\n",
    "U = \\begin{bmatrix}\n",
    "10^{-22} & 2\\\\\n",
    "0 & -2\\times 10^{22}\n",
    "\\end{bmatrix}$\n",
    "\n",
    "The influence of the small number $10^{-22}$ becomes extremely large and this results in a huge loss of numerical accuracy based on our $myLU()$ function.\n",
    "\n",
    "Evidence is shown through the large positive number $10^{22}$ in $L$ and negative number $-2\\times 10^{22}$ in $U$, where expresses the issue."
   ]
  },
  {
   "cell_type": "markdown",
   "metadata": {},
   "source": [
    "<h1>3.</h1>"
   ]
  },
  {
   "cell_type": "markdown",
   "metadata": {},
   "source": [
    "The multiplication returns\n",
    "$E_1 A = \\begin{bmatrix}\n",
    "4& -10&   2\\\\\n",
    "1&  2&   3\\\\\n",
    "2&   4&  2\n",
    "\\end{bmatrix}$\n",
    "\n",
    "It seems reordering each row in matrix $A$ since the first 2 row of the identity matrix $E_1$ swaps, and this results in the same row operation in $A$. The first and second rows in $A$ swap with each other."
   ]
  },
  {
   "cell_type": "code",
   "execution_count": 5,
   "metadata": {},
   "outputs": [
    {
     "data": {
      "text/plain": [
       "array([[  4, -10,   2],\n",
       "       [  1,   2,   3],\n",
       "       [  2,   4,   2]])"
      ]
     },
     "execution_count": 5,
     "metadata": {},
     "output_type": "execute_result"
    }
   ],
   "source": [
    "A = np.array([[1,2,3],\n",
    "              [4,-10,2],\n",
    "              [2,4,2]])\n",
    "\n",
    "E1 = np.array([[0,1,0],\n",
    "                [1,0,0],\n",
    "                [0,0,1]])\n",
    "\n",
    "E1A = np.dot(E1, A)\n",
    "E1A"
   ]
  },
  {
   "cell_type": "markdown",
   "metadata": {},
   "source": [
    "<h1>4.</h1>"
   ]
  },
  {
   "cell_type": "markdown",
   "metadata": {},
   "source": [
    "When we are given a square matrix $A$, we can apply its identity matrix and then swap $i$-th and $j$-th rows which generates a square matrix $E_{ij}$ that, when applied to a matrix A, swaps rows i and j and leaves the other rows alone."
   ]
  },
  {
   "cell_type": "markdown",
   "metadata": {},
   "source": [
    "<h1>5.</h1>"
   ]
  },
  {
   "cell_type": "markdown",
   "metadata": {},
   "source": [
    "Suppose a swap matrix $E_{ij}$ that exchanges its $i$-th and $j$-the row.</br>\n",
    "Then, if we apply $E_{ij}$ to multiply itself, it will swap the rows back to its original positions. That's because we operates row swap twice, which resume their positions.</br>\n",
    "As $E_{ij}$ is one identity matrix with $i$-th and $j$-th rows exchanged, this implies that $E_{ij} \\cdot E_{ij} = I$, where $I$ represents identity matrix.</br>\n",
    "This shows that the inverse of $E_{ij}$ is itself since $E_{ij}^{-1} \\cdot E_{ij} = I$</br>\n",
    "Thus, $E_{ij}^{-1} = E_{ij}$"
   ]
  },
  {
   "cell_type": "markdown",
   "metadata": {},
   "source": [
    "<h1>6.</h1>"
   ]
  },
  {
   "cell_type": "markdown",
   "metadata": {},
   "source": [
    "$$A = \\begin{bmatrix}\n",
    "1 & 2 & 4 \\\\\n",
    "4 & -10 & 2 \\\\\n",
    "2 & 4 & 2 \n",
    "\\end{bmatrix}$$\n",
    "\n",
    "Try to get $U$:\n",
    "\n",
    "Since 4 is the largest number in the first row, so swap the first and second rows, which gives:\n",
    "$$E_1 = \\begin{bmatrix}\n",
    "0 & 1 & 0 \\\\\n",
    "1 & 0 & 0 \\\\\n",
    "0 & 0 & 1 \\\\\n",
    "\\end{bmatrix} \\quad\n",
    "E_1A = \\begin{bmatrix}\n",
    "4 & -10 & 2 \\\\\n",
    "1 & 2 & 4 \\\\\n",
    "2 & 4 & 2 \n",
    "\\end{bmatrix}$$\n",
    "\n",
    "\n",
    "Then, eliminate the first entries in row 2 and row 3:\n",
    "$$L_1 = \\begin{bmatrix}\n",
    "1 & 0 & 0 \\\\\n",
    "-\\frac{1}{4} & 1 & 0 \\\\\n",
    "-\\frac{1}{2} & 0 & 1 \n",
    "\\end{bmatrix} \\quad\n",
    "L_1E_1A = \\begin{bmatrix}\n",
    "4 & -10 & 2 \\\\\n",
    "0 & \\frac{9}{2} & \\frac{5}{2} \\\\\n",
    "0 & 9 & 1\n",
    "\\end{bmatrix}$$\n",
    "\n",
    "Now, the number 9 in the third row, second column become the largest one, so swap row 3 and row 2, which gives:\n",
    "$$E_2 = \\begin{bmatrix}\n",
    "1 & 0 &0\\\\\n",
    "0 & 0 & 1\\\\\n",
    "0 & 1 & 0\n",
    "\\end{bmatrix} \\quad\n",
    "E_2L_1E_1A = \\begin{bmatrix}\n",
    "4& -10 & 2\\\\\n",
    "0 &  9 &  1\\\\\n",
    "0  & \\frac{9}{2} & \\frac{5}{2} \n",
    "\\end{bmatrix}$$\n",
    "\n",
    "From this, we need to eliminate the second entry in the third row, which is $\\frac{9}{2}$, which means that we can apply $L_2$:\n",
    "$$L_2 = \\begin{bmatrix}\n",
    "1&   0& 0\\\\\n",
    "0& 1&   0\\\\\n",
    "0& -\\frac{1}{2}& 1\n",
    "\\end{bmatrix} \\quad\n",
    "L_2E_2L_1E_1A = \\begin{bmatrix}\n",
    "4& -10 &2\\\\\n",
    "0 & 9 &  1\\\\\n",
    "0 & 0 & 2\n",
    "\\end{bmatrix}$$\n",
    "which represents the upper triangular matrix \n",
    "$U = \\begin{bmatrix}\n",
    "4& -10 &2\\\\\n",
    "0 & 9 &  1\\\\\n",
    "0 & 0 & 2\n",
    "\\end{bmatrix}\n",
    "= L_2E_2L_1E_1A$\n"
   ]
  },
  {
   "cell_type": "code",
   "execution_count": 6,
   "metadata": {},
   "outputs": [
    {
     "name": "stdout",
     "output_type": "stream",
     "text": [
      "E1A:\n",
      "[[  4. -10.   2.]\n",
      " [  1.   2.   3.]\n",
      " [  2.   4.   2.]]\n",
      "L1:\n",
      "[[ 1.    0.    0.  ]\n",
      " [-0.25  1.    0.  ]\n",
      " [-0.5   0.    1.  ]]\n",
      "L1E1A:\n",
      "[[  4.  -10.    2. ]\n",
      " [  0.    4.5   2.5]\n",
      " [  0.    9.    1. ]]\n",
      "E2L1E1A:\n",
      "[[  4.  -10.    2. ]\n",
      " [  0.    9.    1. ]\n",
      " [  0.    4.5   2.5]]\n",
      "L2:\n",
      "[[ 1.   0.   0. ]\n",
      " [ 0.   1.   0. ]\n",
      " [ 0.  -0.5  1. ]]\n",
      "L2E2L1E1A:\n",
      "[[  4. -10.   2.]\n",
      " [  0.   9.   1.]\n",
      " [  0.   0.   2.]]\n"
     ]
    }
   ],
   "source": [
    "A = np.array([[1,2,3],\n",
    "              [4,-10,2],\n",
    "              [2,4,2]])\n",
    "\n",
    "# initialize E1 as an identity matrix\n",
    "E1 = np.identity(3)\n",
    "\n",
    "# Swap the first and second row for E1 to set the row__1's first entry matching the largest number of 4 in the first column\n",
    "E1[[0,1]] = E1[[1,0]]\n",
    "\n",
    "# apply E1 to A\n",
    "E1A = np.dot(E1, A)\n",
    "print(f'E1A:\\n{E1A}')\n",
    "\n",
    "# initialize L1 as an identity matrix\n",
    "L1 = np.identity(3)\n",
    "\n",
    "# eliminating the second and third rows' first entries\n",
    "L1[1, 0] = -E1A[1, 0] / E1A[0, 0]\n",
    "L1[2, 0] = -E1A[2, 0] / E1A[0, 0]\n",
    "print(f'L1:\\n{L1}')\n",
    "L1E1A = L1@E1A\n",
    "print(f'L1E1A:\\n{L1E1A}')\n",
    "\n",
    "# initialize E2 \n",
    "E2 = np.identity(3)\n",
    "\n",
    "# Swap the second and third rows\n",
    "E2[[1,2]] = E2[[2,1]]\n",
    "\n",
    "# apply  E2 to L1E1A\n",
    "E2L1E1A = np.dot(E2, L1E1A)\n",
    "print(f'E2L1E1A:\\n{E2L1E1A}')\n",
    "\n",
    "# initialize L2\n",
    "L2 = np.identity(3)\n",
    "\n",
    "# eliminating the second entry in the third row\n",
    "L2[2, 1] = -E2L1E1A[2, 1] / E2L1E1A[1, 1]\n",
    "print(f'L2:\\n{L2}')\n",
    "L2E2L1E1A = np.dot(L2, E2L1E1A)\n",
    "print(f'L2E2L1E1A:\\n{L2E2L1E1A}')"
   ]
  },
  {
   "cell_type": "markdown",
   "metadata": {},
   "source": [
    "<h1>7.</h1>"
   ]
  },
  {
   "cell_type": "code",
   "execution_count": 7,
   "metadata": {},
   "outputs": [
    {
     "name": "stdout",
     "output_type": "stream",
     "text": [
      "P:\n",
      "[[0. 1. 0.]\n",
      " [0. 0. 1.]\n",
      " [1. 0. 0.]]\n",
      "L:\n",
      "[[1.   0.   0.  ]\n",
      " [0.5  1.   0.  ]\n",
      " [0.25 0.5  1.  ]]\n",
      "If PA = LU:\n",
      "[[ True  True  True]\n",
      " [ True  True  True]\n",
      " [ True  True  True]]\n",
      "\n",
      "By testing the previous example, PA = LU, which giving:\n",
      "PA =\n",
      "[[  4. -10.   2.]\n",
      " [  2.   4.   2.]\n",
      " [  1.   2.   3.]] \n",
      "LU =\n",
      "[[  4. -10.   2.]\n",
      " [  2.   4.   2.]\n",
      " [  1.   2.   3.]]\n"
     ]
    }
   ],
   "source": [
    "# From the previous matrices in Problem 6.\n",
    "P = np.dot(E2, E1)\n",
    "print(f'P:\\n{P}')\n",
    "\n",
    "L = E2 @ E1 @ np.linalg.inv(E1) @ np.linalg.inv(L1) @ np.linalg.inv(E2) @ np.linalg.inv(L2)\n",
    "print(f\"L:\\n{L}\")\n",
    "\n",
    "# Check if PA = LU\n",
    "U = L2E2L1E1A\n",
    "PA = np.dot(P, A)\n",
    "LU = np.dot(L, U)\n",
    "print(f'If PA = LU:\\n{PA == LU}')\n",
    "print(f\"\\nBy testing the previous example, PA = LU, which giving:\\nPA =\\n{PA} \\nLU =\\n{LU}\")"
   ]
  },
  {
   "cell_type": "markdown",
   "metadata": {},
   "source": [
    "<h1>8.</h1>"
   ]
  },
  {
   "cell_type": "code",
   "execution_count": 8,
   "metadata": {},
   "outputs": [],
   "source": [
    "import numpy as np\n",
    "\n",
    "def myPLU(A):\n",
    "    # number of rows in the matrix A, which is also the size of the square matrices L, U, and P\n",
    "    n = A.shape[0]\n",
    "\n",
    "    # Initialize the lower triangular matrix L as an identity matrix of size n\n",
    "    L = np.identity(n)\n",
    "\n",
    "    # Initialize the upper triangular matrix U as a copy of A\n",
    "    U = np.copy(A)\n",
    "\n",
    "    # Initialize the permutation matrix P as an identity matrix of size n\n",
    "    P = np.identity(n)\n",
    "\n",
    "    # Loop over each column of the matrix A for the PLU decomposition\n",
    "    for j in range(0, n-1):\n",
    "        # Find the index of the pivot row by locating the maximum absolute value in the current column j below or at row j\n",
    "        pivot_row = np.argmax(np.abs(U[j:, j])) + j\n",
    "\n",
    "        # Swap the current row j with the pivot row in matrix U for partial pivoting\n",
    "        U[[j, pivot_row]] = U[[pivot_row, j]]\n",
    "\n",
    "        # Perform row swap in matrix P to record the permutation\n",
    "        P[[j, pivot_row]] = P[[pivot_row, j]]\n",
    "\n",
    "        # Update the lower triangular matrix L with the multipliers used in the elimination steps\n",
    "        for k in range(0, j):\n",
    "            L[[j, pivot_row], k] = L[[pivot_row, j], k]\n",
    "\n",
    "        # Loop over the rows below the pivot row to eliminate the current column entries\n",
    "        for i in range(j+1, n):\n",
    "            # Calculate the multiplier to be used to eliminate the entry in column j of row i\n",
    "            mult = U[i, j] / U[j, j]\n",
    "\n",
    "            # Subtract the appropriate multiple of the pivot row from the current row to make the current column entry 0\n",
    "            U[i, j+1:n] = U[i, j+1:n] - mult * U[j, j+1:n]\n",
    "\n",
    "            # Store the multiplier in the lower triangular matrix L\n",
    "            L[i, j] = mult\n",
    "\n",
    "            # Ensure that the current lower parts are 0\n",
    "            U[i, j] = 0\n",
    "\n",
    "    # Return the permutation matrix P, the lower triangular matrix L, and the upper triangular matrix U\n",
    "    return P, L, U"
   ]
  },
  {
   "cell_type": "markdown",
   "metadata": {},
   "source": [
    "<h1>9.</h1>"
   ]
  },
  {
   "cell_type": "code",
   "execution_count": 9,
   "metadata": {},
   "outputs": [
    {
     "data": {
      "text/plain": [
       "(array([[0., 1., 0.],\n",
       "        [0., 0., 1.],\n",
       "        [1., 0., 0.]]),\n",
       " array([[1.        , 0.        , 0.        ],\n",
       "        [0.5       , 1.        , 0.        ],\n",
       "        [0.25      , 0.44444444, 1.        ]]),\n",
       " array([[  4, -10,   2],\n",
       "        [  0,   9,   1],\n",
       "        [  0,   0,   1]]),\n",
       " array([[  4.        , -10.        ,   2.        ],\n",
       "        [  2.        ,   4.        ,   2.        ],\n",
       "        [  1.        ,   1.5       ,   1.94444444]]))"
      ]
     },
     "execution_count": 9,
     "metadata": {},
     "output_type": "execute_result"
    }
   ],
   "source": [
    "# Test for myPLU() function\n",
    "A = np.array([[1,2,3],\n",
    "              [4,-10,2],\n",
    "              [2,4,2]])\n",
    "\n",
    "P, L, U = myPLU(A)\n",
    "\n",
    "P, L, U, L@U\n",
    "# seems not returning the correct LU decomposition, but the right P.\n",
    "# Maybe the new pivot is not at the same previous position since the row operation?"
   ]
  },
  {
   "cell_type": "markdown",
   "metadata": {},
   "source": [
    "# Revised myPLU() function:"
   ]
  },
  {
   "cell_type": "code",
   "execution_count": 10,
   "metadata": {},
   "outputs": [
    {
     "data": {
      "text/plain": [
       "(array([[0., 1., 0.],\n",
       "        [0., 0., 1.],\n",
       "        [1., 0., 0.]]),\n",
       " array([[1.  , 0.  , 0.  ],\n",
       "        [0.5 , 1.  , 0.  ],\n",
       "        [0.25, 0.5 , 1.  ]]),\n",
       " array([[  4., -10.,   2.],\n",
       "        [  0.,   9.,   1.],\n",
       "        [  0.,   0.,   2.]]),\n",
       " array([[  4., -10.,   2.],\n",
       "        [  2.,   4.,   2.],\n",
       "        [  1.,   2.,   3.]]))"
      ]
     },
     "execution_count": 10,
     "metadata": {},
     "output_type": "execute_result"
    }
   ],
   "source": [
    "def PLU(A): # A is a square matrix\n",
    "    A = A.astype(float)\n",
    "    n = A.shape[0]\n",
    "    L = np.identity(n)\n",
    "    U = A.copy()\n",
    "    P = np.identity(n)\n",
    "    \n",
    "    for j in range(n):\n",
    "        pivot_row = np.argmax(np.abs(U[j:, j]))+j\n",
    "        \n",
    "        # if the pivot row is not the current row\n",
    "        if j != pivot_row:\n",
    "            U[[j, pivot_row], :] = U[[pivot_row, j], :]\n",
    "            P[[j, pivot_row],:] = P[[pivot_row, j],:]\n",
    "            L[[j,pivot_row], :j] = L[[pivot_row, j], :j]\n",
    "            \n",
    "        for i in range(j+1, n):\n",
    "            L[i,j] = U[i,j]/U[j,j]\n",
    "            U[i, j:] = U[i, j:] - L[i, j] * U[j, j:]\n",
    "            U[i,j] = 0\n",
    "            \n",
    "    return P, L, U\n",
    "\n",
    "# Test for PLU() function\n",
    "A = np.array([[1,2,3],\n",
    "              [4,-10,2],\n",
    "              [2,4,2]])\n",
    "\n",
    "P, L, U = PLU(A)\n",
    "\n",
    "P, L, U, L@U\n"
   ]
  },
  {
   "cell_type": "markdown",
   "metadata": {},
   "source": [
    "# Using PLU Decomposition to solve the system $Ax = b$"
   ]
  },
  {
   "cell_type": "code",
   "execution_count": 11,
   "metadata": {},
   "outputs": [
    {
     "name": "stdout",
     "output_type": "stream",
     "text": [
      "A:\n",
      "[[0.81039844 0.95991032 0.91963345]\n",
      " [0.28315136 0.21557508 0.71825896]\n",
      " [0.25321033 0.81781116 0.47913528]]\n",
      "b:\n",
      "[[0.15318002]\n",
      " [0.4677943 ]\n",
      " [0.26293233]]\n",
      "x:\n",
      "[[-1.03484589]\n",
      " [ 0.0258815 ]\n",
      " [ 1.0514772 ]]\n",
      "\n",
      "Difference between Ax and b:\n",
      "[[1.38777878e-16]\n",
      " [1.11022302e-16]\n",
      " [0.00000000e+00]]\n"
     ]
    }
   ],
   "source": [
    "def PLUsolve(A, b):\n",
    "    A = A.astype(float)\n",
    "    \n",
    "    def PLU(A): # A is a square matrix\n",
    "        A = A.astype(float)\n",
    "        n = A.shape[0]\n",
    "        L = np.identity(n)\n",
    "        U = A.copy()\n",
    "        P = np.identity(n)\n",
    "    \n",
    "        for j in range(n):\n",
    "            pivot_row = np.argmax(np.abs(U[j:, j]))+j\n",
    "        \n",
    "            # if the pivot row is not the current row\n",
    "            if j != pivot_row:\n",
    "                U[[j, pivot_row], :] = U[[pivot_row, j], :]\n",
    "                P[[j, pivot_row],:] = P[[pivot_row, j],:]\n",
    "                L[[j,pivot_row], :j] = L[[pivot_row, j], :j]\n",
    "            \n",
    "            for i in range(j+1, n):\n",
    "                L[i,j] = U[i,j]/U[j,j]\n",
    "                U[i, j:] = U[i, j:] - L[i, j] * U[j, j:]\n",
    "                U[i,j] = 0\n",
    "            \n",
    "        return P, L, U\n",
    "\n",
    "    def forward_substitution(L, Pb):\n",
    "        n = Pb.size\n",
    "        # solve Ly = Pb for y\n",
    "        y = np.zeros((n,1))\n",
    "        for i in range(n):\n",
    "            y[i] = Pb[i] \n",
    "            for j in range(i): # now adjust y \n",
    "                y[i] = y[i] - L[i,j] * y[j] \n",
    "        return y\n",
    "\n",
    "    def backward_substitution(U, y):\n",
    "        n = y.size\n",
    "        # solve Ux= y for x\n",
    "        x = np.zeros((n,1))\n",
    "        for i in reversed(range(n)):\n",
    "            x[i] = y[i]/U[i, i]\n",
    "        \n",
    "            for j in range(i+1, n):\n",
    "                x[i] = x[i] - U[i, j]*x[j]/U[i,i]\n",
    "        return x\n",
    "\n",
    "    # Perform PLU decomposition\n",
    "    P, L, U = PLU(A)\n",
    "    \n",
    "    # Find Pb vector\n",
    "    Pb = np.dot(P, b)\n",
    "\n",
    "    # Solve for y using forward substitution\n",
    "    y = forward_substitution(L, Pb)\n",
    "\n",
    "    # Solve for x using back substitution\n",
    "    x = backward_substitution(U, y)\n",
    "\n",
    "    return x\n",
    "\n",
    "\n",
    "# Test the PLUsolve function with random numbers\n",
    "m = 3\n",
    "A = np.random.rand(m, m)\n",
    "b = np.random.rand(m, 1)\n",
    "sol = PLUsolve(A, b)\n",
    "print(f\"A:\\n{A}\\nb:\\n{b}\\nx:\\n{sol}\")\n",
    "\n",
    "# Check if Ax = b, consider machine precision\n",
    "print(f\"\\nDifference between Ax and b:\\n{np.abs(A@sol - b)}\")"
   ]
  },
  {
   "cell_type": "code",
   "execution_count": 12,
   "metadata": {},
   "outputs": [
    {
     "data": {
      "text/plain": [
       "(array([[0., 0., 1.],\n",
       "        [1., 0., 0.],\n",
       "        [0., 1., 0.]]),\n",
       " array([[1.  , 0.  , 0.  ],\n",
       "        [0.5 , 1.  , 0.  ],\n",
       "        [0.25, 0.5 , 1.  ]]),\n",
       " array([[  4., -10.,   2.],\n",
       "        [  0.,   9.,   1.],\n",
       "        [  0.,   0.,   2.]]),\n",
       " array([[  4., -10.,   2.],\n",
       "        [  2.,   4.,   2.],\n",
       "        [  1.,   2.,   3.]]))"
      ]
     },
     "execution_count": 12,
     "metadata": {},
     "output_type": "execute_result"
    }
   ],
   "source": [
    "A = np.array([[1,2,3],\n",
    "              [4,-10,2],\n",
    "              [2,4,2]])\n",
    "\n",
    "P, L, U = sp.linalg.lu(A)\n",
    "P, L, U, L@U"
   ]
  }
 ],
 "metadata": {
  "kernelspec": {
   "display_name": "Python 3",
   "language": "python",
   "name": "python3"
  },
  "language_info": {
   "codemirror_mode": {
    "name": "ipython",
    "version": 3
   },
   "file_extension": ".py",
   "mimetype": "text/x-python",
   "name": "python",
   "nbconvert_exporter": "python",
   "pygments_lexer": "ipython3",
   "version": "3.12.2"
  }
 },
 "nbformat": 4,
 "nbformat_minor": 2
}
