{
 "cells": [
  {
   "cell_type": "markdown",
   "metadata": {
    "collapsed": false
   },
   "source": [
    "In this lab, you will use numerical calculus to investigate several questions about global climate science. The necessary data are available in the folder this lab is embedded in.\n"
   ]
  },
  {
   "cell_type": "markdown",
   "metadata": {
    "collapsed": false
   },
   "source": [
    "# Question 1: China and the U.S.\n",
    "\n",
    "The file US-China.csv includes, among other things, the annual metric tons of CO$_2$ emitted by the United States and China from 1980 to 2021. Using these data, complete the following tasks:\n",
    "\n",
    "a. Graph the annual emissions for the United States and China on the same axes. Be sure to label things appropriately.\n",
    "\n",
    "b. Produce a plot that depicts the *cumulative* CO$_2$ emissions for the United States and China over that same time period."
   ]
  },
  {
   "cell_type": "markdown",
   "metadata": {
    "collapsed": false
   },
   "source": [
    "# Question 2: CO$_2$ Levels Over Time\n",
    "\n",
    "The file maunaLoa.csv contains the monthly recorded carbon dioxide levels at Mauna Loa observatory starting with January 1959 and ending with December 1997. Using these data, complete the following tasks:\n",
    "\n",
    "a. Graph the data in a visually appealing way.\n",
    "\n",
    "b. Hypothesize a functional form for $f(x)$ where $x$ is months since January 1959 and $f$ is the recorded CO$_2$ levels. Be sure to capture the broad trends and the sub-annual pattern.\n",
    "\n",
    "c. Use least-squares optimization to fit a curve of the form $f(x)$ to the data and superimpose the optimal fit on your plot. Discuss the plot briefly.\n",
    "\n",
    "d. Find the average CO$_2$ level for each year in the dataset and graph that.\n",
    "\n",
    "e. Computationally estimate the rate of change of CO$_2$ levels for each year from 1959 to 1996, graph it, and interpret the result."
   ]
  },
  {
   "cell_type": "markdown",
   "metadata": {},
   "source": [
    "Please submit your solutions as a Jupyter Notebook (including Markdown cells of LaTeX and Python code). "
   ]
  },
  {
   "cell_type": "code",
   "execution_count": null,
   "metadata": {
    "collapsed": false
   },
   "outputs": [],
   "source": []
  }
 ],
 "metadata": {
  "kernelspec": {
   "argv": [
    "/usr/bin/python3",
    "-m",
    "ipykernel",
    "--HistoryManager.enabled=False",
    "--matplotlib=inline",
    "-c",
    "%config InlineBackend.figure_formats = set(['retina'])\nimport matplotlib; matplotlib.rcParams['figure.figsize'] = (12, 7)",
    "-f",
    "{connection_file}"
   ],
   "display_name": "Python 3 (system-wide)",
   "env": {},
   "language": "python",
   "metadata": {
    "cocalc": {
     "description": "Python 3 programming language",
     "priority": 100,
     "url": "https://www.python.org/"
    }
   },
   "name": "python3",
   "resource_dir": "/ext/jupyter/kernels/python3"
  }
 },
 "nbformat": 4,
 "nbformat_minor": 4
}
